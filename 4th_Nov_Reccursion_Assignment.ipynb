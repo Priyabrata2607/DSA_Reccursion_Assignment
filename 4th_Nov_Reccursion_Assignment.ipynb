{
 "cells": [
  {
   "cell_type": "markdown",
   "id": "64e58d93",
   "metadata": {},
   "source": [
    "Q.1 Can you explain the logic and working of the Tower of Hanoi algorithm by writing a Python program?\n",
    "How does the recursion work, and how are the movements of disks between rods accomplished?"
   ]
  },
  {
   "cell_type": "code",
   "execution_count": 2,
   "id": "474ffefc",
   "metadata": {},
   "outputs": [
    {
     "name": "stdout",
     "output_type": "stream",
     "text": [
      "Move Disk 1 from source A to destination C\n",
      "Move Disk 2 from source A to destination B\n",
      "Move Disk 1 from source C to destination B\n",
      "Move Disk 3 from source A to destination C\n",
      "Move Disk 1 from source B to destination A\n",
      "Move Disk 2 from source B to destination C\n",
      "Move Disk 1 from source A to destination C\n",
      "Move Disk 4 from source A to destination B\n",
      "Move Disk 1 from source C to destination B\n",
      "Move Disk 2 from source C to destination A\n",
      "Move Disk 1 from source B to destination A\n",
      "Move Disk 3 from source C to destination B\n",
      "Move Disk 1 from source A to destination C\n",
      "Move Disk 2 from source A to destination B\n",
      "Move Disk 1 from source C to destination B\n"
     ]
    }
   ],
   "source": [
    "def tower_of_hanoi(n,source,dest,aux):\n",
    "    if n==1:\n",
    "        print(f'Move Disk 1 from source {source} to destination {dest}')\n",
    "        return \n",
    "    else:\n",
    "        tower_of_hanoi(n-1,source,aux,dest)\n",
    "        print(f'Move Disk {n} from source {source} to destination {dest}')\n",
    "        tower_of_hanoi(n-1,aux,dest,source)\n",
    "    \n",
    "\n",
    "n=4\n",
    "tower_of_hanoi(n,'A','B','C')"
   ]
  },
  {
   "cell_type": "markdown",
   "id": "cdad94ab",
   "metadata": {},
   "source": [
    "Q.2 Given two strings word1 and word2, return the minimum number of operations required to convert word1\n",
    "to word2.\n",
    "\n",
    "\n",
    "Example 1:\n",
    "    \n",
    "    \n",
    "Input: word1 = \"horse\", word2 = \"ros\"\n",
    "    \n",
    "    \n",
    "Output: 3\n",
    "    \n",
    "Explanation:\n",
    "    \n",
    "    \n",
    "horse -> rorse (replace 'h' with 'r')\n",
    "\n",
    "\n",
    "rorse -> rose (remove 'r')\n",
    "\n",
    "\n",
    "rose -> ros (remove 'e')\n",
    "\n",
    "\n",
    "Example 2:\n",
    "    \n",
    "    \n",
    "Input: word1 = \"intention\", word2 = \"execution\"\n",
    "    \n",
    "    \n",
    "Output: 5\n",
    "    \n",
    "    \n",
    "Explanation:\n",
    "    \n",
    "    \n",
    "intention -> inention (remove 't')\n",
    "\n",
    "\n",
    "inention -> enention (replace 'i' with 'e')\n",
    "\n",
    "\n",
    "enention -> exention (replace 'n' with 'x')\n",
    "\n",
    "\n",
    "exention -> exection (replace 'n' with 'c')\n",
    "\n",
    "\n",
    "exection -> execution (insert 'u')"
   ]
  },
  {
   "cell_type": "code",
   "execution_count": 3,
   "id": "343e0e3c",
   "metadata": {},
   "outputs": [
    {
     "name": "stdout",
     "output_type": "stream",
     "text": [
      "The minimum operation required for converting horse to ros is 3\n",
      "The minimum operation required for converting intention to execution is 5\n"
     ]
    }
   ],
   "source": [
    "def edit_distance(str1,str2,m,n):\n",
    "    if m==0:\n",
    "        return n\n",
    "    if n==0:\n",
    "        return m\n",
    "\n",
    "    if str1[m-1]==str2[n-1]:\n",
    "        return edit_distance(str1,str2,m-1,n-1)\n",
    "\n",
    "\n",
    "    return 1+min(edit_distance(str1,str2,m,n-1),\n",
    "                 edit_distance(str1,str2,m-1,n),\n",
    "                 edit_distance(str1,str2,m-1,n-1))\n",
    "\n",
    "\n",
    "#Exp-1\n",
    "word1='horse'\n",
    "word2='ros'\n",
    "\n",
    "#output1\n",
    "res=edit_distance(word1,word2,len(word1),len(word2))\n",
    "print(f'The minimum operation required for converting {word1} to {word2} is {res}')\n",
    "\n",
    "#Exp-2\n",
    "string1='intention'\n",
    "string2='execution'\n",
    "res2=edit_distance(string1,string2,len(string1),len(string2))\n",
    "print(f'The minimum operation required for converting {string1} to {string2} is {res2}')"
   ]
  },
  {
   "cell_type": "markdown",
   "id": "5b452054",
   "metadata": {},
   "source": [
    "Q.3 Print the max value of the array [ 13, 1, -3, 22, 5]."
   ]
  },
  {
   "cell_type": "code",
   "execution_count": 4,
   "id": "589b8b13",
   "metadata": {},
   "outputs": [
    {
     "name": "stdout",
     "output_type": "stream",
     "text": [
      "The max value in this list: 22\n"
     ]
    }
   ],
   "source": [
    "def max_val(arr):\n",
    "    if len(arr)==1:\n",
    "        return arr[0]\n",
    "    else:\n",
    "        max_value=arr[0]\n",
    "        if max_value<max_val(arr[1:]):\n",
    "            max_value=max_val(arr[1:])\n",
    "        return max_value\n",
    "    \n",
    "arr=[13,1-3,22,5]\n",
    "res=max_val(arr)\n",
    "print('The max value in this list:',res)"
   ]
  },
  {
   "cell_type": "markdown",
   "id": "b6143798",
   "metadata": {},
   "source": [
    "Q.4 Find the sum of the values of the array [92, 23, 15, -20, 10]."
   ]
  },
  {
   "cell_type": "code",
   "execution_count": 5,
   "id": "ae18084f",
   "metadata": {},
   "outputs": [
    {
     "name": "stdout",
     "output_type": "stream",
     "text": [
      "The sum of the this array: 120\n"
     ]
    }
   ],
   "source": [
    "def sum_of_val(arr):\n",
    "    if len(arr)==1:\n",
    "        return arr[0]\n",
    "    else:\n",
    "        return arr[0]+sum_of_val(arr[1:])\n",
    "\n",
    "arr=[92,23,15,-20,10]\n",
    "res=sum_of_val(arr)\n",
    "print('The sum of the this array:',res)"
   ]
  },
  {
   "cell_type": "markdown",
   "id": "9bf8c675",
   "metadata": {},
   "source": [
    "Q.5 Given a number n. Print if it is an armstrong number or not.An armstrong number is a number if the sum\n",
    "of every digit in that number raised to the power of total digits in that number is equal to the number.\n",
    "\n",
    "Example : 153 = 1^3 + 5^3 + 3^3 = 1 + 125 + 27 = 153 hence 153 is an armstrong number.\n",
    "\n",
    "\n",
    "Input1 : 153\n",
    "Output1 : Yes\n",
    "\n",
    "\n",
    "Input 2 : 134\n",
    "Output2 : No"
   ]
  },
  {
   "cell_type": "code",
   "execution_count": 9,
   "id": "78a99873",
   "metadata": {},
   "outputs": [
    {
     "name": "stdout",
     "output_type": "stream",
     "text": [
      "Enter a number:1634\n",
      "Yes, 1634 is a armstrong number\n"
     ]
    }
   ],
   "source": [
    "def armstrong(num,num_length):\n",
    "    if num<=1:\n",
    "        return num\n",
    "    else:\n",
    "        return (num%10)**num_length+armstrong(num//10,num_length)\n",
    "\n",
    "\n",
    "num=int(input('Enter a number:'))\n",
    "length=len(str(num))\n",
    "res=armstrong(num,length)\n",
    "\n",
    "if num==res:\n",
    "    print(f'Yes, {res} is a armstrong number')\n",
    "else:\n",
    "    print(f'No, {res} is not a armstrong number')\n"
   ]
  },
  {
   "cell_type": "code",
   "execution_count": null,
   "id": "e10a2631",
   "metadata": {},
   "outputs": [],
   "source": []
  }
 ],
 "metadata": {
  "kernelspec": {
   "display_name": "Python 3 (ipykernel)",
   "language": "python",
   "name": "python3"
  },
  "language_info": {
   "codemirror_mode": {
    "name": "ipython",
    "version": 3
   },
   "file_extension": ".py",
   "mimetype": "text/x-python",
   "name": "python",
   "nbconvert_exporter": "python",
   "pygments_lexer": "ipython3",
   "version": "3.9.12"
  }
 },
 "nbformat": 4,
 "nbformat_minor": 5
}
